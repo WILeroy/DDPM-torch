{
 "cells": [
  {
   "cell_type": "markdown",
   "metadata": {},
   "source": [
    "# 1 训练数据"
   ]
  },
  {
   "cell_type": "markdown",
   "metadata": {},
   "source": [
    "## 1.1 数据集代码实现"
   ]
  },
  {
   "cell_type": "code",
   "execution_count": 1,
   "metadata": {},
   "outputs": [
    {
     "name": "stderr",
     "output_type": "stream",
     "text": [
      "/usr/local/lib/python3.8/dist-packages/tqdm/auto.py:22: TqdmWarning: IProgress not found. Please update jupyter and ipywidgets. See https://ipywidgets.readthedocs.io/en/stable/user_install.html\n",
      "  from .autonotebook import tqdm as notebook_tqdm\n"
     ]
    }
   ],
   "source": [
    "import math\n",
    "import numpy as np\n",
    "import torch\n",
    "from torch.utils.data import Dataset"
   ]
  },
  {
   "cell_type": "code",
   "execution_count": 2,
   "metadata": {},
   "outputs": [],
   "source": [
    "class ToyDataset(Dataset):\n",
    "    def __init__(self, size: int, stdev: float, random_state: int = None):\n",
    "        self.size = size\n",
    "        self.noise = stdev\n",
    "        self.random_state = random_state\n",
    "        self.stdev = self._calc_stdev()\n",
    "        self.data = self._sample()\n",
    "        \n",
    "    def _calc_stdev(self):\n",
    "        pass\n",
    "\n",
    "    def _sample(self):\n",
    "        pass\n",
    "\n",
    "    def resample(self):\n",
    "        self.data = self._sample()\n",
    "\n",
    "    def __len__(self):\n",
    "        return self.size\n",
    "\n",
    "    def __getitem__(self, idx):\n",
    "        return torch.from_numpy(self.data[idx])"
   ]
  },
  {
   "cell_type": "code",
   "execution_count": 3,
   "metadata": {},
   "outputs": [],
   "source": [
    "class Gaussian25(ToyDataset):\n",
    "    scale = 2\n",
    "    modes = [(i, j) for i in range(-2, 3) for j in range(-2, 3)]\n",
    "\n",
    "    def __init__(self, size, stdev=0.05, random_state=1234):\n",
    "        self.modes = self.scale * np.array(self.modes, dtype=np.float32)\n",
    "        super(Gaussian25, self).__init__(size, stdev, random_state)\n",
    "\n",
    "    def _calc_stdev(self):\n",
    "        # x-y symmetric; around 2.828\n",
    "        return math.sqrt(self.noise ** 2 + (self.scale ** 2) * 2.)  \n",
    "\n",
    "    def _sample(self):\n",
    "        rng = np.random.default_rng(self.random_state)\n",
    "        data = self.noise * rng.standard_normal((self.size, 2), dtype=np.float32)\n",
    "        data += np.array(self.modes)[np.arange(self.size) % 25]\n",
    "        data /= self.stdev\n",
    "        return data"
   ]
  },
  {
   "cell_type": "code",
   "execution_count": 4,
   "metadata": {},
   "outputs": [],
   "source": [
    "class DataStreamer:\n",
    "    def __init__(self, dataset: ToyDataset, batch_size: int, num_batches: int, resample: bool = False):\n",
    "        dataset = self.dataset_map(dataset)\n",
    "        self.batch_size = batch_size\n",
    "        self.num_batches = num_batches\n",
    "        self.resample = resample\n",
    "        self.dataset = dataset(batch_size * num_batches, random_state=None)\n",
    "\n",
    "    def __iter__(self):\n",
    "        cnt = 0\n",
    "        while True:\n",
    "            start = cnt * self.batch_size\n",
    "            end = start + self.batch_size\n",
    "            yield torch.from_numpy(self.dataset.data[start:end])\n",
    "            cnt += 1\n",
    "            if cnt >= self.num_batches:\n",
    "                break\n",
    "        if self.resample:\n",
    "            self.dataset.resample()\n",
    "\n",
    "    def __len__(self):\n",
    "        return self.num_batches\n",
    "        \n",
    "    @staticmethod\n",
    "    def dataset_map(dataset):\n",
    "        return {\n",
    "            \"gaussian25\": Gaussian25,\n",
    "        }.get(dataset, None)"
   ]
  },
  {
   "cell_type": "markdown",
   "metadata": {},
   "source": [
    "## 1.2 Gaussian25数据集可视化\n",
    "\n",
    "Gaussian25由25个高斯分布组合而成，每个样本是一个2d点（每个点从任意一个高斯分布采样得到），所以可视化结果是整个Gaussian25数据集（即整个数据集的分布）。\n",
    "\n",
    "注意：样本是图中的点，而非整张图。"
   ]
  },
  {
   "cell_type": "code",
   "execution_count": 5,
   "metadata": {},
   "outputs": [
    {
     "data": {
      "text/plain": [
       "<matplotlib.collections.PathCollection at 0x7ff388134df0>"
      ]
     },
     "execution_count": 5,
     "metadata": {},
     "output_type": "execute_result"
    },
    {
     "data": {
      "image/png": "[encoded data removed]",
      "text/plain": [
       "<Figure size 600x600 with 1 Axes>"
      ]
     },
     "metadata": {},
     "output_type": "display_data"
    }
   ],
   "source": [
    "import matplotlib.pyplot as plt\n",
    "\n",
    "dataset = Gaussian25(100000)\n",
    "plt.figure(figsize=(6, 6))\n",
    "plt.scatter(*np.hsplit(dataset.data, 2), s=0.5, alpha=0.7)"
   ]
  },
  {
   "cell_type": "markdown",
   "metadata": {},
   "source": [
    "# 2 模型"
   ]
  },
  {
   "cell_type": "markdown",
   "metadata": {},
   "source": [
    "## 2.1 Timestep Embedding\n",
    "\n",
    "与tranformer中的Position Embedding相同，此处使用正弦、余弦函数编码扩散步数timestep。"
   ]
  },
  {
   "cell_type": "code",
   "execution_count": 6,
   "metadata": {},
   "outputs": [],
   "source": [
    "import math\n",
    "import torch\n",
    "import torch.nn as nn\n",
    "import torch.nn.functional as F\n",
    "\n",
    "DEFAULT_DTYPE = torch.float32"
   ]
  },
  {
   "cell_type": "code",
   "execution_count": 7,
   "metadata": {},
   "outputs": [],
   "source": [
    "def get_timestep_embedding(timesteps, embed_dim: int, dtype: torch.dtype = DEFAULT_DTYPE):\n",
    "    \"\"\"\n",
    "    Adapted from fairseq/fairseq/modules/sinusoidal_positional_embedding.py\n",
    "    The implementation is slightly different from the decription in Section 3.5 of [1]\n",
    "    [1] Vaswani, Ashish, et al. \"Attention is all you need.\"\n",
    "     Advances in neural information processing systems 30 (2017).\n",
    "    \"\"\"\n",
    "    half_dim = embed_dim // 2\n",
    "    embed = math.log(10000) / (half_dim - 1)\n",
    "    embed = torch.exp(-torch.arange(half_dim, dtype=dtype, device=timesteps.device) * embed)\n",
    "    embed = torch.outer(timesteps.ravel().to(dtype), embed)\n",
    "    embed = torch.cat([torch.sin(embed), torch.cos(embed)], dim=1)\n",
    "    if embed_dim % 2 == 1:\n",
    "        embed = F.pad(embed, [0, 1])  # padding the last dimension\n",
    "    assert embed.dtype == dtype\n",
    "    return embed"
   ]
  },
  {
   "cell_type": "markdown",
   "metadata": {},
   "source": [
    "## 2.2 去噪模型\n",
    "\n",
    "* 输入：加噪（扩散）样本$x_t$，扩散步数t\n",
    "* 输出：样本x中的噪声$\\epsilon$"
   ]
  },
  {
   "cell_type": "code",
   "execution_count": 8,
   "metadata": {},
   "outputs": [],
   "source": [
    "DEFAULT_NORMALIZER = nn.LayerNorm\n",
    "DEFAULT_NONLINEARITY = nn.LeakyReLU(negative_slope=0.02, inplace=True)\n",
    "\n",
    "\n",
    "class Sequential(nn.Sequential):\n",
    "    def forward(self, input, **kwargs):\n",
    "        for module in self:\n",
    "            input = module(input, **kwargs)\n",
    "        return input\n",
    "\n",
    "\n",
    "class TemporalLayer(nn.Module):\n",
    "    normalize = DEFAULT_NORMALIZER\n",
    "    nonlinearity = DEFAULT_NONLINEARITY\n",
    "\n",
    "    def __init__(self, in_features, out_features, temporal_features):\n",
    "        super(TemporalLayer, self).__init__()\n",
    "        self.norm1 = self.normalize(in_features)\n",
    "        self.fc1 = nn.Linear(in_features, out_features, bias=False)\n",
    "        self.norm2 = self.normalize(out_features)\n",
    "        self.fc2 = nn.Linear(out_features, out_features, bias=False)\n",
    "        self.enc = nn.Linear(temporal_features, out_features)\n",
    "\n",
    "        self.skip = nn.Identity() if in_features == out_features else nn.Linear(in_features, out_features, bias=False)\n",
    "\n",
    "    def forward(self, x, t_emb):\n",
    "        out = self.fc1(self.nonlinearity(self.norm1(x)))\n",
    "        out += self.enc(t_emb)\n",
    "        out = self.fc2(self.nonlinearity(self.norm2(out)))\n",
    "        skip = self.skip(x)\n",
    "        return out + skip\n",
    "    \n",
    "\n",
    "class Decoder(nn.Module):\n",
    "    normalize = DEFAULT_NORMALIZER\n",
    "    nonlinearity = DEFAULT_NONLINEARITY\n",
    "\n",
    "    def __init__(self, in_features, mid_features, num_temporal_layers):\n",
    "        super(Decoder, self).__init__()\n",
    "\n",
    "        self.in_fc = nn.Linear(in_features, mid_features, bias=False)\n",
    "        self.temp_fc = Sequential(*([TemporalLayer(\n",
    "            mid_features, mid_features, mid_features), ] * num_temporal_layers))\n",
    "        self.out_norm = self.normalize(mid_features)\n",
    "        self.out_fc = nn.Linear(mid_features, in_features)\n",
    "        self.t_proj = Sequential(\n",
    "            nn.Linear(mid_features, mid_features),\n",
    "            self.nonlinearity)\n",
    "        self.mid_features = mid_features\n",
    "\n",
    "    def forward(self, x, t):\n",
    "        t_emb = get_timestep_embedding(t, self.mid_features)\n",
    "        t_emb = self.t_proj(t_emb)\n",
    "        out = self.in_fc(x)\n",
    "        out = self.temp_fc(out, t_emb=t_emb)\n",
    "        out = self.out_fc(self.out_norm(out))\n",
    "        return out"
   ]
  },
  {
   "cell_type": "code",
   "execution_count": 9,
   "metadata": {},
   "outputs": [
    {
     "name": "stdout",
     "output_type": "stream",
     "text": [
      "Decoder(\n",
      "  (in_fc): Linear(in_features=2, out_features=128, bias=False)\n",
      "  (temp_fc): Sequential(\n",
      "    (0): TemporalLayer(\n",
      "      (norm1): LayerNorm((128,), eps=1e-05, elementwise_affine=True)\n",
      "      (fc1): Linear(in_features=128, out_features=128, bias=False)\n",
      "      (norm2): LayerNorm((128,), eps=1e-05, elementwise_affine=True)\n",
      "      (fc2): Linear(in_features=128, out_features=128, bias=False)\n",
      "      (enc): Linear(in_features=128, out_features=128, bias=True)\n",
      "      (skip): Identity()\n",
      "    )\n",
      "    (1): TemporalLayer(\n",
      "      (norm1): LayerNorm((128,), eps=1e-05, elementwise_affine=True)\n",
      "      (fc1): Linear(in_features=128, out_features=128, bias=False)\n",
      "      (norm2): LayerNorm((128,), eps=1e-05, elementwise_affine=True)\n",
      "      (fc2): Linear(in_features=128, out_features=128, bias=False)\n",
      "      (enc): Linear(in_features=128, out_features=128, bias=True)\n",
      "      (skip): Identity()\n",
      "    )\n",
      "  )\n",
      "  (out_norm): LayerNorm((128,), eps=1e-05, elementwise_affine=True)\n",
      "  (out_fc): Linear(in_features=128, out_features=2, bias=True)\n",
      "  (t_proj): Sequential(\n",
      "    (0): Linear(in_features=128, out_features=128, bias=True)\n",
      "    (1): LeakyReLU(negative_slope=0.02, inplace=True)\n",
      "  )\n",
      ")\n",
      "torch.Size([16, 2])\n"
     ]
    }
   ],
   "source": [
    "test_model = Decoder(2, 128, 2)\n",
    "print(test_model, flush=True)\n",
    "out = test_model(torch.randn(16, 2), t=torch.randint(1000, size=(16, )))\n",
    "print(out.shape)"
   ]
  },
  {
   "cell_type": "markdown",
   "metadata": {},
   "source": [
    "## 2.3 扩散模型"
   ]
  },
  {
   "cell_type": "code",
   "execution_count": 10,
   "metadata": {},
   "outputs": [],
   "source": [
    "class GaussianDiffusion:\n",
    "    def __init__(self, betas, device='cuda:0', **kwargs):\n",
    "        assert isinstance(betas, torch.Tensor) and betas.dtype == torch.float64\n",
    "        assert (betas > 0).all() and (betas <= 1).all()\n",
    "        self.betas = betas\n",
    "        self.timesteps = len(betas)\n",
    "        self.device=device\n",
    "\n",
    "        alphas = 1 - betas\n",
    "        self.alphas_bar = torch.cumprod(alphas, dim=0)\n",
    "        alphas_bar_prev = torch.cat([torch.as_tensor([1., ], dtype=torch.float64), self.alphas_bar[:-1]])\n",
    "\n",
    "        # q(x_t | x_0)\n",
    "        self.sqrt_alphas_bar = torch.sqrt(self.alphas_bar)\n",
    "        self.sqrt_one_minus_alphas_bar = torch.sqrt(1. - self.alphas_bar)\n",
    "\n",
    "        # q(x_{t-1} | x_t, x_0)\n",
    "        sqrt_alphas_bar_prev = torch.sqrt(alphas_bar_prev)\n",
    "        self.sqrt_recip_alphas_bar = torch.sqrt(1. / self.alphas_bar)\n",
    "        self.sqrt_recip_m1_alphas_bar = torch.sqrt(1. / self.alphas_bar - 1.)  # m1: minus 1\n",
    "        self.posterior_var = betas * (1. - alphas_bar_prev) / (1. - self.alphas_bar)\n",
    "        self.posterior_logvar_clipped = torch.log(torch.cat([self.posterior_var[[1]], self.posterior_var[1:]]))\n",
    "        self.posterior_mean_coef1 = betas * sqrt_alphas_bar_prev / (1. - self.alphas_bar)\n",
    "        self.posterior_mean_coef2 = torch.sqrt(alphas) * (1. - alphas_bar_prev) / (1. - self.alphas_bar)\n",
    "\n",
    "        # for fixed model_var_type's\n",
    "        self.fixed_model_var = self.betas\n",
    "        self.fixed_model_logvar = torch.log(torch.cat([self.posterior_var[[1]], self.betas[1:]]))\n",
    "\n",
    "    @staticmethod\n",
    "    def _extract(\n",
    "            arr, t, x,\n",
    "            dtype=torch.float32, device=torch.device(\"cpu\"), ndim=4):\n",
    "        if x is not None:\n",
    "            dtype = x.dtype\n",
    "            device = x.device\n",
    "            ndim = x.ndim\n",
    "        out = torch.as_tensor(arr, dtype=dtype, device=device).gather(0, t)\n",
    "        return out.reshape((-1, ) + (1, ) * (ndim - 1))\n",
    "\n",
    "    def q_sample(self, x_0, t, noise=None):\n",
    "        if noise is None:\n",
    "            noise = torch.randn_like(x_0)\n",
    "        coef1 = self._extract(self.sqrt_alphas_bar, t, x_0)\n",
    "        coef2 = self._extract(self.sqrt_one_minus_alphas_bar, t, x_0)\n",
    "        return coef1 * x_0 + coef2 * noise\n",
    "\n",
    "    def q_posterior_mean_var(self, x_0, x_t, t):\n",
    "        posterior_mean_coef1 = self._extract(self.posterior_mean_coef1, t, x_0)\n",
    "        posterior_mean_coef2 = self._extract(self.posterior_mean_coef2, t, x_0)\n",
    "        posterior_mean = posterior_mean_coef1 * x_0 + posterior_mean_coef2 * x_t\n",
    "        posterior_var = self._extract(self.posterior_var, t, x_0)\n",
    "        posterior_logvar = self._extract(self.posterior_logvar_clipped, t, x_0)\n",
    "        return posterior_mean, posterior_var, posterior_logvar\n",
    "\n",
    "    def _pred_x_0_from_eps(self, x_t, eps, t):\n",
    "        coef1 = self._extract(self.sqrt_recip_alphas_bar, t, x_t)\n",
    "        coef2 = self._extract(self.sqrt_recip_m1_alphas_bar, t, x_t)\n",
    "        return coef1 * x_t - coef2 * eps\n",
    "\n",
    "    def p_mean_var(self, denoise_fn, x_t, t, clip_denoised, return_pred):\n",
    "        out = denoise_fn(x_t, t)\n",
    "\n",
    "        model_var, model_logvar = self._extract(self.fixed_model_var, t, x_t),\\\n",
    "                                  self._extract(self.fixed_model_logvar, t, x_t)\n",
    "\n",
    "        # calculate the mean estimate\n",
    "        _clip = (lambda x: x.clamp(-1., 1.)) if clip_denoised else (lambda x: x)\n",
    "        pred_x_0 = _clip(self._pred_x_0_from_eps(x_t=x_t, eps=out, t=t))\n",
    "        model_mean, *_ = self.q_posterior_mean_var(x_0=pred_x_0, x_t=x_t, t=t)\n",
    "        \n",
    "        if return_pred:\n",
    "            return model_mean, model_var, model_logvar, pred_x_0\n",
    "        else:\n",
    "            return model_mean, model_var, model_logvar\n",
    "\n",
    "    # === sample ===\n",
    "    def p_sample_step(self, denoise_fn, x_t, t, clip_denoised=True, return_pred=False, generator=None):\n",
    "        model_mean, _, model_logvar, pred_x_0 = self.p_mean_var(\n",
    "            denoise_fn, x_t, t, clip_denoised=clip_denoised, return_pred=True)\n",
    "        noise = torch.empty_like(x_t).normal_(generator=generator)\n",
    "        nonzero_mask = (t > 0).reshape((-1,) + (1,) * (x_t.ndim - 1)).to(x_t)\n",
    "        sample = model_mean + nonzero_mask * torch.exp(0.5 * model_logvar) * noise\n",
    "        return (sample, pred_x_0) if return_pred else sample\n",
    "\n",
    "    @torch.inference_mode()\n",
    "    def p_sample(self, denoise_fn, shape=None, noise=None, seed=None):\n",
    "        device = self.device\n",
    "        B = (shape or noise.shape)[0]\n",
    "        t = torch.empty((B, ), dtype=torch.int64, device=device)\n",
    "        rng = None\n",
    "        if seed is not None:\n",
    "            rng = torch.Generator(device).manual_seed(seed)\n",
    "        if noise is None:\n",
    "            x_t = torch.empty(shape, device=device).normal_(generator=rng)\n",
    "        else:\n",
    "            x_t = noise.to(device)\n",
    "        for ti in range(self.timesteps - 1, -1, -1):\n",
    "            t.fill_(ti)\n",
    "            x_t = self.p_sample_step(denoise_fn, x_t, t, generator=rng)\n",
    "        return x_t\n",
    "\n",
    "    # train\n",
    "    def train_losses(self, denoise_fn, x_0, t, noise=None):\n",
    "        if noise is None:\n",
    "            noise = torch.randn_like(x_0)\n",
    "        \n",
    "        # add noise\n",
    "        x_t = self.q_sample(x_0, t, noise=noise)\n",
    "\n",
    "        # predict noise and get loss\n",
    "        target = noise\n",
    "        model_out = denoise_fn(x_t, t)\n",
    "        losses = torch.mean((target - model_out).pow(2), dim=1)\n",
    "        \n",
    "        return losses"
   ]
  },
  {
   "cell_type": "code",
   "execution_count": 11,
   "metadata": {},
   "outputs": [],
   "source": [
    "class Toy2dGaussianDiffusion(GaussianDiffusion):\n",
    "    def p_mean_var(self, denoise_fn, x_t, t, clip_denoised, return_pred):\n",
    "        out = denoise_fn(x_t, t)\n",
    "\n",
    "        model_var, model_logvar = self._extract(self.fixed_model_var, t, x_t),\\\n",
    "                                  self._extract(self.fixed_model_logvar, t, x_t)\n",
    "\n",
    "        # calculate the mean estimate\n",
    "        _clip = lambda x: x\n",
    "        pred_x_0 = _clip(self._pred_x_0_from_eps(x_t=x_t, eps=out, t=t))\n",
    "        model_mean, *_ = self.q_posterior_mean_var(x_0=pred_x_0, x_t=x_t, t=t)\n",
    "\n",
    "        if return_pred:\n",
    "            return model_mean, model_var, model_logvar, pred_x_0\n",
    "        else:\n",
    "            return model_mean, model_var, model_logvar"
   ]
  },
  {
   "cell_type": "markdown",
   "metadata": {},
   "source": [
    "# 3 训练"
   ]
  },
  {
   "cell_type": "markdown",
   "metadata": {},
   "source": [
    "## 3.1 模型、数据及$\\beta$初始化"
   ]
  },
  {
   "cell_type": "code",
   "execution_count": 12,
   "metadata": {},
   "outputs": [],
   "source": [
    "import torch\n",
    "from tqdm import tqdm"
   ]
  },
  {
   "cell_type": "code",
   "execution_count": 13,
   "metadata": {},
   "outputs": [],
   "source": [
    "def _warmup_beta(beta_start, beta_end, timesteps, warmup_frac, dtype):\n",
    "    betas = beta_end * torch.ones(timesteps, dtype=dtype)\n",
    "    warmup_time = int(timesteps * warmup_frac)\n",
    "    betas[:warmup_time] = torch.linspace(beta_start, beta_end, warmup_time, dtype=dtype)\n",
    "    return betas\n",
    "\n",
    "\n",
    "def get_beta_schedule(beta_schedule, beta_start, beta_end, timesteps, dtype=torch.float64):\n",
    "    if beta_schedule == 'quad':\n",
    "        betas = torch.linspace(beta_start ** 0.5, beta_end ** 0.5, timesteps, dtype=dtype) ** 2\n",
    "    elif beta_schedule == 'linear':\n",
    "        betas = torch.linspace(beta_start, beta_end, timesteps, dtype=dtype)\n",
    "    elif beta_schedule == 'warmup10':\n",
    "        betas = _warmup_beta(beta_start, beta_end, timesteps, 0.1, dtype=dtype)\n",
    "    elif beta_schedule == 'warmup50':\n",
    "        betas = _warmup_beta(beta_start, beta_end, timesteps, 0.5, dtype=dtype)\n",
    "    elif beta_schedule == 'const':\n",
    "        betas = beta_end * torch.ones(timesteps, dtype=dtype)\n",
    "    elif beta_schedule == 'jsd':  # 1/T, 1/(T-1), 1/(T-2), ..., 1\n",
    "        betas = 1. / torch.linspace(timesteps, 1, timesteps, dtype=dtype)\n",
    "    else:\n",
    "        raise NotImplementedError(beta_schedule)\n",
    "    assert betas.shape == (timesteps, )\n",
    "    return betas"
   ]
  },
  {
   "cell_type": "code",
   "execution_count": 14,
   "metadata": {},
   "outputs": [],
   "source": [
    "bsize = 1000\n",
    "num_batch = 100\n",
    "train_dataloader = DataStreamer('gaussian25', bsize, num_batch)\n",
    "\n",
    "beta_schedule = 'linear'\n",
    "beta_start = 0.001\n",
    "beta_end = 0.2\n",
    "timesteps = 100\n",
    "betas = get_beta_schedule(beta_schedule, beta_start, beta_end, timesteps)\n",
    "\n",
    "diffusion_model = Toy2dGaussianDiffusion(betas)\n",
    "\n",
    "in_features = 2\n",
    "min_features = 128\n",
    "num_temporal_layers = 2\n",
    "denoise_model = Decoder(in_features, min_features, num_temporal_layers).cuda()"
   ]
  },
  {
   "cell_type": "markdown",
   "metadata": {},
   "source": [
    "## 3.2 训练过程"
   ]
  },
  {
   "cell_type": "code",
   "execution_count": 15,
   "metadata": {},
   "outputs": [],
   "source": [
    "def train_step(diffusion_model, denoise_model, optimizer, x):\n",
    "    B = x.shape[0]\n",
    "    T = diffusion_model.timesteps\n",
    "    \n",
    "    # get loss\n",
    "    t = torch.randint(T, size=(B, ), dtype=torch.int64).cuda()\n",
    "    loss = diffusion_model.train_losses(denoise_model, x_0=x, t=t)\n",
    "    assert loss.shape == (B, )\n",
    "    loss = loss.mean()\n",
    "\n",
    "    # loss backward\n",
    "    optimizer.zero_grad(set_to_none=True)\n",
    "    loss.backward()\n",
    "    optimizer.step()\n",
    "\n",
    "    return loss.item() * B"
   ]
  },
  {
   "cell_type": "code",
   "execution_count": 16,
   "metadata": {},
   "outputs": [],
   "source": [
    "def train(diffusion_model, denoise_model, trainloader, optimizer, epochs):\n",
    "    for e in range(epochs):        \n",
    "        with tqdm(trainloader, desc=f\"{e + 1}/{epochs} epochs\", ncols=100) as t:\n",
    "            sum_loss = 0\n",
    "\n",
    "            denoise_model.train()\n",
    "            for i, x in enumerate(t):\n",
    "                loss = train_step(diffusion_model, denoise_model, optimizer, x.cuda())\n",
    "                sum_loss += loss\n",
    "            print('loss: {:.6f}'.format(sum_loss/len(t)))"
   ]
  },
  {
   "cell_type": "code",
   "execution_count": 17,
   "metadata": {},
   "outputs": [
    {
     "name": "stderr",
     "output_type": "stream",
     "text": [
      "1/100 epochs: 100%|██████████████████████████████████████████████| 100/100 [00:00<00:00, 115.30it/s]\n"
     ]
    },
    {
     "name": "stdout",
     "output_type": "stream",
     "text": [
      "loss: 338.778409\n"
     ]
    },
    {
     "name": "stderr",
     "output_type": "stream",
     "text": [
      "2/100 epochs: 100%|██████████████████████████████████████████████| 100/100 [00:00<00:00, 292.69it/s]\n"
     ]
    },
    {
     "name": "stdout",
     "output_type": "stream",
     "text": [
      "loss: 267.999909\n"
     ]
    },
    {
     "name": "stderr",
     "output_type": "stream",
     "text": [
      "3/100 epochs: 100%|██████████████████████████████████████████████| 100/100 [00:00<00:00, 294.63it/s]\n"
     ]
    },
    {
     "name": "stdout",
     "output_type": "stream",
     "text": [
      "loss: 266.061410\n"
     ]
    },
    {
     "name": "stderr",
     "output_type": "stream",
     "text": [
      "4/100 epochs: 100%|██████████████████████████████████████████████| 100/100 [00:00<00:00, 293.99it/s]\n"
     ]
    },
    {
     "name": "stdout",
     "output_type": "stream",
     "text": [
      "loss: 260.898340\n"
     ]
    },
    {
     "name": "stderr",
     "output_type": "stream",
     "text": [
      "5/100 epochs: 100%|██████████████████████████████████████████████| 100/100 [00:00<00:00, 294.25it/s]\n"
     ]
    },
    {
     "name": "stdout",
     "output_type": "stream",
     "text": [
      "loss: 257.085062\n"
     ]
    },
    {
     "name": "stderr",
     "output_type": "stream",
     "text": [
      "6/100 epochs: 100%|██████████████████████████████████████████████| 100/100 [00:00<00:00, 294.41it/s]\n"
     ]
    },
    {
     "name": "stdout",
     "output_type": "stream",
     "text": [
      "loss: 254.610623\n"
     ]
    },
    {
     "name": "stderr",
     "output_type": "stream",
     "text": [
      "7/100 epochs: 100%|██████████████████████████████████████████████| 100/100 [00:00<00:00, 294.81it/s]\n"
     ]
    },
    {
     "name": "stdout",
     "output_type": "stream",
     "text": [
      "loss: 252.987005\n"
     ]
    },
    {
     "name": "stderr",
     "output_type": "stream",
     "text": [
      "8/100 epochs: 100%|██████████████████████████████████████████████| 100/100 [00:00<00:00, 294.88it/s]\n"
     ]
    },
    {
     "name": "stdout",
     "output_type": "stream",
     "text": [
      "loss: 251.562274\n"
     ]
    },
    {
     "name": "stderr",
     "output_type": "stream",
     "text": [
      "9/100 epochs: 100%|██████████████████████████████████████████████| 100/100 [00:00<00:00, 294.51it/s]\n"
     ]
    },
    {
     "name": "stdout",
     "output_type": "stream",
     "text": [
      "loss: 242.814696\n"
     ]
    },
    {
     "name": "stderr",
     "output_type": "stream",
     "text": [
      "10/100 epochs: 100%|█████████████████████████████████████████████| 100/100 [00:00<00:00, 289.38it/s]\n"
     ]
    },
    {
     "name": "stdout",
     "output_type": "stream",
     "text": [
      "loss: 244.615830\n"
     ]
    },
    {
     "name": "stderr",
     "output_type": "stream",
     "text": [
      "11/100 epochs: 100%|█████████████████████████████████████████████| 100/100 [00:00<00:00, 294.54it/s]\n"
     ]
    },
    {
     "name": "stdout",
     "output_type": "stream",
     "text": [
      "loss: 240.943040\n"
     ]
    },
    {
     "name": "stderr",
     "output_type": "stream",
     "text": [
      "12/100 epochs: 100%|█████████████████████████████████████████████| 100/100 [00:00<00:00, 294.94it/s]\n"
     ]
    },
    {
     "name": "stdout",
     "output_type": "stream",
     "text": [
      "loss: 242.961718\n"
     ]
    },
    {
     "name": "stderr",
     "output_type": "stream",
     "text": [
      "13/100 epochs: 100%|█████████████████████████████████████████████| 100/100 [00:00<00:00, 295.09it/s]\n"
     ]
    },
    {
     "name": "stdout",
     "output_type": "stream",
     "text": [
      "loss: 239.517501\n"
     ]
    },
    {
     "name": "stderr",
     "output_type": "stream",
     "text": [
      "14/100 epochs: 100%|█████████████████████████████████████████████| 100/100 [00:00<00:00, 295.11it/s]\n"
     ]
    },
    {
     "name": "stdout",
     "output_type": "stream",
     "text": [
      "loss: 239.419972\n"
     ]
    },
    {
     "name": "stderr",
     "output_type": "stream",
     "text": [
      "15/100 epochs: 100%|█████████████████████████████████████████████| 100/100 [00:00<00:00, 295.30it/s]\n"
     ]
    },
    {
     "name": "stdout",
     "output_type": "stream",
     "text": [
      "loss: 234.945767\n"
     ]
    },
    {
     "name": "stderr",
     "output_type": "stream",
     "text": [
      "16/100 epochs: 100%|█████████████████████████████████████████████| 100/100 [00:00<00:00, 294.98it/s]\n"
     ]
    },
    {
     "name": "stdout",
     "output_type": "stream",
     "text": [
      "loss: 232.744032\n"
     ]
    },
    {
     "name": "stderr",
     "output_type": "stream",
     "text": [
      "17/100 epochs: 100%|█████████████████████████████████████████████| 100/100 [00:00<00:00, 294.17it/s]\n"
     ]
    },
    {
     "name": "stdout",
     "output_type": "stream",
     "text": [
      "loss: 233.506818\n"
     ]
    },
    {
     "name": "stderr",
     "output_type": "stream",
     "text": [
      "18/100 epochs: 100%|█████████████████████████████████████████████| 100/100 [00:00<00:00, 295.26it/s]\n"
     ]
    },
    {
     "name": "stdout",
     "output_type": "stream",
     "text": [
      "loss: 231.637966\n"
     ]
    },
    {
     "name": "stderr",
     "output_type": "stream",
     "text": [
      "19/100 epochs: 100%|█████████████████████████████████████████████| 100/100 [00:00<00:00, 290.89it/s]\n"
     ]
    },
    {
     "name": "stdout",
     "output_type": "stream",
     "text": [
      "loss: 229.042316\n"
     ]
    },
    {
     "name": "stderr",
     "output_type": "stream",
     "text": [
      "20/100 epochs: 100%|█████████████████████████████████████████████| 100/100 [00:00<00:00, 295.21it/s]\n"
     ]
    },
    {
     "name": "stdout",
     "output_type": "stream",
     "text": [
      "loss: 228.408165\n"
     ]
    },
    {
     "name": "stderr",
     "output_type": "stream",
     "text": [
      "21/100 epochs: 100%|█████████████████████████████████████████████| 100/100 [00:00<00:00, 294.85it/s]\n"
     ]
    },
    {
     "name": "stdout",
     "output_type": "stream",
     "text": [
      "loss: 229.683099\n"
     ]
    },
    {
     "name": "stderr",
     "output_type": "stream",
     "text": [
      "22/100 epochs: 100%|█████████████████████████████████████████████| 100/100 [00:00<00:00, 294.86it/s]\n"
     ]
    },
    {
     "name": "stdout",
     "output_type": "stream",
     "text": [
      "loss: 227.395040\n"
     ]
    },
    {
     "name": "stderr",
     "output_type": "stream",
     "text": [
      "23/100 epochs: 100%|█████████████████████████████████████████████| 100/100 [00:00<00:00, 292.52it/s]\n"
     ]
    },
    {
     "name": "stdout",
     "output_type": "stream",
     "text": [
      "loss: 227.931915\n"
     ]
    },
    {
     "name": "stderr",
     "output_type": "stream",
     "text": [
      "24/100 epochs: 100%|█████████████████████████████████████████████| 100/100 [00:00<00:00, 293.56it/s]\n"
     ]
    },
    {
     "name": "stdout",
     "output_type": "stream",
     "text": [
      "loss: 224.169152\n"
     ]
    },
    {
     "name": "stderr",
     "output_type": "stream",
     "text": [
      "25/100 epochs: 100%|█████████████████████████████████████████████| 100/100 [00:00<00:00, 294.21it/s]\n"
     ]
    },
    {
     "name": "stdout",
     "output_type": "stream",
     "text": [
      "loss: 222.978022\n"
     ]
    },
    {
     "name": "stderr",
     "output_type": "stream",
     "text": [
      "26/100 epochs: 100%|█████████████████████████████████████████████| 100/100 [00:00<00:00, 294.17it/s]\n"
     ]
    },
    {
     "name": "stdout",
     "output_type": "stream",
     "text": [
      "loss: 225.219888\n"
     ]
    },
    {
     "name": "stderr",
     "output_type": "stream",
     "text": [
      "27/100 epochs: 100%|█████████████████████████████████████████████| 100/100 [00:00<00:00, 290.24it/s]\n"
     ]
    },
    {
     "name": "stdout",
     "output_type": "stream",
     "text": [
      "loss: 227.278029\n"
     ]
    },
    {
     "name": "stderr",
     "output_type": "stream",
     "text": [
      "28/100 epochs: 100%|█████████████████████████████████████████████| 100/100 [00:00<00:00, 294.63it/s]\n"
     ]
    },
    {
     "name": "stdout",
     "output_type": "stream",
     "text": [
      "loss: 221.499660\n"
     ]
    },
    {
     "name": "stderr",
     "output_type": "stream",
     "text": [
      "29/100 epochs: 100%|█████████████████████████████████████████████| 100/100 [00:00<00:00, 293.93it/s]\n"
     ]
    },
    {
     "name": "stdout",
     "output_type": "stream",
     "text": [
      "loss: 220.579336\n"
     ]
    },
    {
     "name": "stderr",
     "output_type": "stream",
     "text": [
      "30/100 epochs: 100%|█████████████████████████████████████████████| 100/100 [00:00<00:00, 294.26it/s]\n"
     ]
    },
    {
     "name": "stdout",
     "output_type": "stream",
     "text": [
      "loss: 223.056766\n"
     ]
    },
    {
     "name": "stderr",
     "output_type": "stream",
     "text": [
      "31/100 epochs: 100%|█████████████████████████████████████████████| 100/100 [00:00<00:00, 293.66it/s]\n"
     ]
    },
    {
     "name": "stdout",
     "output_type": "stream",
     "text": [
      "loss: 224.579577\n"
     ]
    },
    {
     "name": "stderr",
     "output_type": "stream",
     "text": [
      "32/100 epochs: 100%|█████████████████████████████████████████████| 100/100 [00:00<00:00, 294.28it/s]\n"
     ]
    },
    {
     "name": "stdout",
     "output_type": "stream",
     "text": [
      "loss: 219.959004\n"
     ]
    },
    {
     "name": "stderr",
     "output_type": "stream",
     "text": [
      "33/100 epochs: 100%|█████████████████████████████████████████████| 100/100 [00:00<00:00, 294.71it/s]\n"
     ]
    },
    {
     "name": "stdout",
     "output_type": "stream",
     "text": [
      "loss: 220.739950\n"
     ]
    },
    {
     "name": "stderr",
     "output_type": "stream",
     "text": [
      "34/100 epochs: 100%|█████████████████████████████████████████████| 100/100 [00:00<00:00, 294.36it/s]\n"
     ]
    },
    {
     "name": "stdout",
     "output_type": "stream",
     "text": [
      "loss: 222.282832\n"
     ]
    },
    {
     "name": "stderr",
     "output_type": "stream",
     "text": [
      "35/100 epochs: 100%|█████████████████████████████████████████████| 100/100 [00:00<00:00, 294.06it/s]\n"
     ]
    },
    {
     "name": "stdout",
     "output_type": "stream",
     "text": [
      "loss: 220.358627\n"
     ]
    },
    {
     "name": "stderr",
     "output_type": "stream",
     "text": [
      "36/100 epochs: 100%|█████████████████████████████████████████████| 100/100 [00:00<00:00, 289.32it/s]\n"
     ]
    },
    {
     "name": "stdout",
     "output_type": "stream",
     "text": [
      "loss: 220.991017\n"
     ]
    },
    {
     "name": "stderr",
     "output_type": "stream",
     "text": [
      "37/100 epochs: 100%|█████████████████████████████████████████████| 100/100 [00:00<00:00, 294.15it/s]\n"
     ]
    },
    {
     "name": "stdout",
     "output_type": "stream",
     "text": [
      "loss: 224.549747\n"
     ]
    },
    {
     "name": "stderr",
     "output_type": "stream",
     "text": [
      "38/100 epochs: 100%|█████████████████████████████████████████████| 100/100 [00:00<00:00, 294.00it/s]\n"
     ]
    },
    {
     "name": "stdout",
     "output_type": "stream",
     "text": [
      "loss: 220.556516\n"
     ]
    },
    {
     "name": "stderr",
     "output_type": "stream",
     "text": [
      "39/100 epochs: 100%|█████████████████████████████████████████████| 100/100 [00:00<00:00, 294.14it/s]\n"
     ]
    },
    {
     "name": "stdout",
     "output_type": "stream",
     "text": [
      "loss: 220.341061\n"
     ]
    },
    {
     "name": "stderr",
     "output_type": "stream",
     "text": [
      "40/100 epochs: 100%|█████████████████████████████████████████████| 100/100 [00:00<00:00, 294.12it/s]\n"
     ]
    },
    {
     "name": "stdout",
     "output_type": "stream",
     "text": [
      "loss: 218.263849\n"
     ]
    },
    {
     "name": "stderr",
     "output_type": "stream",
     "text": [
      "41/100 epochs: 100%|█████████████████████████████████████████████| 100/100 [00:00<00:00, 293.86it/s]\n"
     ]
    },
    {
     "name": "stdout",
     "output_type": "stream",
     "text": [
      "loss: 218.457348\n"
     ]
    },
    {
     "name": "stderr",
     "output_type": "stream",
     "text": [
      "42/100 epochs: 100%|█████████████████████████████████████████████| 100/100 [00:00<00:00, 293.35it/s]\n"
     ]
    },
    {
     "name": "stdout",
     "output_type": "stream",
     "text": [
      "loss: 220.781883\n"
     ]
    },
    {
     "name": "stderr",
     "output_type": "stream",
     "text": [
      "43/100 epochs: 100%|█████████████████████████████████████████████| 100/100 [00:00<00:00, 293.94it/s]\n"
     ]
    },
    {
     "name": "stdout",
     "output_type": "stream",
     "text": [
      "loss: 222.173794\n"
     ]
    },
    {
     "name": "stderr",
     "output_type": "stream",
     "text": [
      "44/100 epochs: 100%|█████████████████████████████████████████████| 100/100 [00:00<00:00, 293.87it/s]\n"
     ]
    },
    {
     "name": "stdout",
     "output_type": "stream",
     "text": [
      "loss: 218.246616\n"
     ]
    },
    {
     "name": "stderr",
     "output_type": "stream",
     "text": [
      "45/100 epochs: 100%|█████████████████████████████████████████████| 100/100 [00:00<00:00, 291.19it/s]\n"
     ]
    },
    {
     "name": "stdout",
     "output_type": "stream",
     "text": [
      "loss: 219.866573\n"
     ]
    },
    {
     "name": "stderr",
     "output_type": "stream",
     "text": [
      "46/100 epochs: 100%|█████████████████████████████████████████████| 100/100 [00:00<00:00, 294.14it/s]\n"
     ]
    },
    {
     "name": "stdout",
     "output_type": "stream",
     "text": [
      "loss: 218.041740\n"
     ]
    },
    {
     "name": "stderr",
     "output_type": "stream",
     "text": [
      "47/100 epochs: 100%|█████████████████████████████████████████████| 100/100 [00:00<00:00, 294.07it/s]\n"
     ]
    },
    {
     "name": "stdout",
     "output_type": "stream",
     "text": [
      "loss: 219.551271\n"
     ]
    },
    {
     "name": "stderr",
     "output_type": "stream",
     "text": [
      "48/100 epochs: 100%|█████████████████████████████████████████████| 100/100 [00:00<00:00, 293.36it/s]\n"
     ]
    },
    {
     "name": "stdout",
     "output_type": "stream",
     "text": [
      "loss: 218.623346\n"
     ]
    },
    {
     "name": "stderr",
     "output_type": "stream",
     "text": [
      "49/100 epochs: 100%|█████████████████████████████████████████████| 100/100 [00:00<00:00, 293.62it/s]\n"
     ]
    },
    {
     "name": "stdout",
     "output_type": "stream",
     "text": [
      "loss: 216.569862\n"
     ]
    },
    {
     "name": "stderr",
     "output_type": "stream",
     "text": [
      "50/100 epochs: 100%|█████████████████████████████████████████████| 100/100 [00:00<00:00, 294.23it/s]\n"
     ]
    },
    {
     "name": "stdout",
     "output_type": "stream",
     "text": [
      "loss: 216.988705\n"
     ]
    },
    {
     "name": "stderr",
     "output_type": "stream",
     "text": [
      "51/100 epochs: 100%|█████████████████████████████████████████████| 100/100 [00:00<00:00, 294.22it/s]\n"
     ]
    },
    {
     "name": "stdout",
     "output_type": "stream",
     "text": [
      "loss: 220.084108\n"
     ]
    },
    {
     "name": "stderr",
     "output_type": "stream",
     "text": [
      "52/100 epochs: 100%|█████████████████████████████████████████████| 100/100 [00:00<00:00, 294.00it/s]\n"
     ]
    },
    {
     "name": "stdout",
     "output_type": "stream",
     "text": [
      "loss: 219.096896\n"
     ]
    },
    {
     "name": "stderr",
     "output_type": "stream",
     "text": [
      "53/100 epochs: 100%|█████████████████████████████████████████████| 100/100 [00:00<00:00, 293.63it/s]\n"
     ]
    },
    {
     "name": "stdout",
     "output_type": "stream",
     "text": [
      "loss: 216.971192\n"
     ]
    },
    {
     "name": "stderr",
     "output_type": "stream",
     "text": [
      "54/100 epochs: 100%|█████████████████████████████████████████████| 100/100 [00:00<00:00, 294.00it/s]\n"
     ]
    },
    {
     "name": "stdout",
     "output_type": "stream",
     "text": [
      "loss: 217.130910\n"
     ]
    },
    {
     "name": "stderr",
     "output_type": "stream",
     "text": [
      "55/100 epochs: 100%|█████████████████████████████████████████████| 100/100 [00:00<00:00, 292.93it/s]\n"
     ]
    },
    {
     "name": "stdout",
     "output_type": "stream",
     "text": [
      "loss: 217.425685\n"
     ]
    },
    {
     "name": "stderr",
     "output_type": "stream",
     "text": [
      "56/100 epochs: 100%|█████████████████████████████████████████████| 100/100 [00:00<00:00, 293.95it/s]\n"
     ]
    },
    {
     "name": "stdout",
     "output_type": "stream",
     "text": [
      "loss: 219.631201\n"
     ]
    },
    {
     "name": "stderr",
     "output_type": "stream",
     "text": [
      "57/100 epochs: 100%|█████████████████████████████████████████████| 100/100 [00:00<00:00, 294.55it/s]\n"
     ]
    },
    {
     "name": "stdout",
     "output_type": "stream",
     "text": [
      "loss: 212.244994\n"
     ]
    },
    {
     "name": "stderr",
     "output_type": "stream",
     "text": [
      "58/100 epochs: 100%|█████████████████████████████████████████████| 100/100 [00:00<00:00, 294.47it/s]\n"
     ]
    },
    {
     "name": "stdout",
     "output_type": "stream",
     "text": [
      "loss: 216.556564\n"
     ]
    },
    {
     "name": "stderr",
     "output_type": "stream",
     "text": [
      "59/100 epochs: 100%|█████████████████████████████████████████████| 100/100 [00:00<00:00, 294.41it/s]\n"
     ]
    },
    {
     "name": "stdout",
     "output_type": "stream",
     "text": [
      "loss: 215.451837\n"
     ]
    },
    {
     "name": "stderr",
     "output_type": "stream",
     "text": [
      "60/100 epochs: 100%|█████████████████████████████████████████████| 100/100 [00:00<00:00, 291.97it/s]\n"
     ]
    },
    {
     "name": "stdout",
     "output_type": "stream",
     "text": [
      "loss: 218.385769\n"
     ]
    },
    {
     "name": "stderr",
     "output_type": "stream",
     "text": [
      "61/100 epochs: 100%|█████████████████████████████████████████████| 100/100 [00:00<00:00, 290.73it/s]\n"
     ]
    },
    {
     "name": "stdout",
     "output_type": "stream",
     "text": [
      "loss: 221.338072\n"
     ]
    },
    {
     "name": "stderr",
     "output_type": "stream",
     "text": [
      "62/100 epochs: 100%|█████████████████████████████████████████████| 100/100 [00:00<00:00, 293.87it/s]\n"
     ]
    },
    {
     "name": "stdout",
     "output_type": "stream",
     "text": [
      "loss: 216.390254\n"
     ]
    },
    {
     "name": "stderr",
     "output_type": "stream",
     "text": [
      "63/100 epochs: 100%|█████████████████████████████████████████████| 100/100 [00:00<00:00, 293.73it/s]\n"
     ]
    },
    {
     "name": "stdout",
     "output_type": "stream",
     "text": [
      "loss: 215.459444\n"
     ]
    },
    {
     "name": "stderr",
     "output_type": "stream",
     "text": [
      "64/100 epochs: 100%|█████████████████████████████████████████████| 100/100 [00:00<00:00, 294.32it/s]\n"
     ]
    },
    {
     "name": "stdout",
     "output_type": "stream",
     "text": [
      "loss: 219.659590\n"
     ]
    },
    {
     "name": "stderr",
     "output_type": "stream",
     "text": [
      "65/100 epochs: 100%|█████████████████████████████████████████████| 100/100 [00:00<00:00, 294.38it/s]\n"
     ]
    },
    {
     "name": "stdout",
     "output_type": "stream",
     "text": [
      "loss: 217.082581\n"
     ]
    },
    {
     "name": "stderr",
     "output_type": "stream",
     "text": [
      "66/100 epochs: 100%|█████████████████████████████████████████████| 100/100 [00:00<00:00, 294.58it/s]\n"
     ]
    },
    {
     "name": "stdout",
     "output_type": "stream",
     "text": [
      "loss: 216.605276\n"
     ]
    },
    {
     "name": "stderr",
     "output_type": "stream",
     "text": [
      "67/100 epochs: 100%|█████████████████████████████████████████████| 100/100 [00:00<00:00, 291.22it/s]\n"
     ]
    },
    {
     "name": "stdout",
     "output_type": "stream",
     "text": [
      "loss: 218.372605\n"
     ]
    },
    {
     "name": "stderr",
     "output_type": "stream",
     "text": [
      "68/100 epochs: 100%|█████████████████████████████████████████████| 100/100 [00:00<00:00, 293.08it/s]\n"
     ]
    },
    {
     "name": "stdout",
     "output_type": "stream",
     "text": [
      "loss: 218.339259\n"
     ]
    },
    {
     "name": "stderr",
     "output_type": "stream",
     "text": [
      "69/100 epochs: 100%|█████████████████████████████████████████████| 100/100 [00:00<00:00, 294.59it/s]\n"
     ]
    },
    {
     "name": "stdout",
     "output_type": "stream",
     "text": [
      "loss: 216.669519\n"
     ]
    },
    {
     "name": "stderr",
     "output_type": "stream",
     "text": [
      "70/100 epochs: 100%|█████████████████████████████████████████████| 100/100 [00:00<00:00, 294.37it/s]\n"
     ]
    },
    {
     "name": "stdout",
     "output_type": "stream",
     "text": [
      "loss: 218.131049\n"
     ]
    },
    {
     "name": "stderr",
     "output_type": "stream",
     "text": [
      "71/100 epochs: 100%|█████████████████████████████████████████████| 100/100 [00:00<00:00, 295.03it/s]\n"
     ]
    },
    {
     "name": "stdout",
     "output_type": "stream",
     "text": [
      "loss: 217.719897\n"
     ]
    },
    {
     "name": "stderr",
     "output_type": "stream",
     "text": [
      "72/100 epochs: 100%|█████████████████████████████████████████████| 100/100 [00:00<00:00, 294.87it/s]\n"
     ]
    },
    {
     "name": "stdout",
     "output_type": "stream",
     "text": [
      "loss: 215.268220\n"
     ]
    },
    {
     "name": "stderr",
     "output_type": "stream",
     "text": [
      "73/100 epochs: 100%|█████████████████████████████████████████████| 100/100 [00:00<00:00, 294.33it/s]\n"
     ]
    },
    {
     "name": "stdout",
     "output_type": "stream",
     "text": [
      "loss: 217.286645\n"
     ]
    },
    {
     "name": "stderr",
     "output_type": "stream",
     "text": [
      "74/100 epochs: 100%|█████████████████████████████████████████████| 100/100 [00:00<00:00, 293.79it/s]\n"
     ]
    },
    {
     "name": "stdout",
     "output_type": "stream",
     "text": [
      "loss: 214.637719\n"
     ]
    },
    {
     "name": "stderr",
     "output_type": "stream",
     "text": [
      "75/100 epochs: 100%|█████████████████████████████████████████████| 100/100 [00:00<00:00, 294.48it/s]\n"
     ]
    },
    {
     "name": "stdout",
     "output_type": "stream",
     "text": [
      "loss: 214.800183\n"
     ]
    },
    {
     "name": "stderr",
     "output_type": "stream",
     "text": [
      "76/100 epochs: 100%|█████████████████████████████████████████████| 100/100 [00:00<00:00, 294.42it/s]\n"
     ]
    },
    {
     "name": "stdout",
     "output_type": "stream",
     "text": [
      "loss: 218.046833\n"
     ]
    },
    {
     "name": "stderr",
     "output_type": "stream",
     "text": [
      "77/100 epochs: 100%|█████████████████████████████████████████████| 100/100 [00:00<00:00, 294.50it/s]\n"
     ]
    },
    {
     "name": "stdout",
     "output_type": "stream",
     "text": [
      "loss: 217.692618\n"
     ]
    },
    {
     "name": "stderr",
     "output_type": "stream",
     "text": [
      "78/100 epochs: 100%|█████████████████████████████████████████████| 100/100 [00:00<00:00, 294.97it/s]\n"
     ]
    },
    {
     "name": "stdout",
     "output_type": "stream",
     "text": [
      "loss: 219.654678\n"
     ]
    },
    {
     "name": "stderr",
     "output_type": "stream",
     "text": [
      "79/100 epochs: 100%|█████████████████████████████████████████████| 100/100 [00:00<00:00, 293.83it/s]\n"
     ]
    },
    {
     "name": "stdout",
     "output_type": "stream",
     "text": [
      "loss: 216.659244\n"
     ]
    },
    {
     "name": "stderr",
     "output_type": "stream",
     "text": [
      "80/100 epochs: 100%|█████████████████████████████████████████████| 100/100 [00:00<00:00, 292.23it/s]\n"
     ]
    },
    {
     "name": "stdout",
     "output_type": "stream",
     "text": [
      "loss: 216.359575\n"
     ]
    },
    {
     "name": "stderr",
     "output_type": "stream",
     "text": [
      "81/100 epochs: 100%|█████████████████████████████████████████████| 100/100 [00:00<00:00, 291.49it/s]\n"
     ]
    },
    {
     "name": "stdout",
     "output_type": "stream",
     "text": [
      "loss: 214.982379\n"
     ]
    },
    {
     "name": "stderr",
     "output_type": "stream",
     "text": [
      "82/100 epochs: 100%|█████████████████████████████████████████████| 100/100 [00:00<00:00, 291.53it/s]\n"
     ]
    },
    {
     "name": "stdout",
     "output_type": "stream",
     "text": [
      "loss: 217.207503\n"
     ]
    },
    {
     "name": "stderr",
     "output_type": "stream",
     "text": [
      "83/100 epochs: 100%|█████████████████████████████████████████████| 100/100 [00:00<00:00, 292.64it/s]\n"
     ]
    },
    {
     "name": "stdout",
     "output_type": "stream",
     "text": [
      "loss: 216.541489\n"
     ]
    },
    {
     "name": "stderr",
     "output_type": "stream",
     "text": [
      "84/100 epochs: 100%|█████████████████████████████████████████████| 100/100 [00:00<00:00, 293.25it/s]\n"
     ]
    },
    {
     "name": "stdout",
     "output_type": "stream",
     "text": [
      "loss: 219.170279\n"
     ]
    },
    {
     "name": "stderr",
     "output_type": "stream",
     "text": [
      "85/100 epochs: 100%|█████████████████████████████████████████████| 100/100 [00:00<00:00, 291.28it/s]\n"
     ]
    },
    {
     "name": "stdout",
     "output_type": "stream",
     "text": [
      "loss: 217.125795\n"
     ]
    },
    {
     "name": "stderr",
     "output_type": "stream",
     "text": [
      "86/100 epochs: 100%|█████████████████████████████████████████████| 100/100 [00:00<00:00, 292.18it/s]\n"
     ]
    },
    {
     "name": "stdout",
     "output_type": "stream",
     "text": [
      "loss: 216.560617\n"
     ]
    },
    {
     "name": "stderr",
     "output_type": "stream",
     "text": [
      "87/100 epochs: 100%|█████████████████████████████████████████████| 100/100 [00:00<00:00, 292.15it/s]\n"
     ]
    },
    {
     "name": "stdout",
     "output_type": "stream",
     "text": [
      "loss: 215.163518\n"
     ]
    },
    {
     "name": "stderr",
     "output_type": "stream",
     "text": [
      "88/100 epochs: 100%|█████████████████████████████████████████████| 100/100 [00:00<00:00, 288.36it/s]\n"
     ]
    },
    {
     "name": "stdout",
     "output_type": "stream",
     "text": [
      "loss: 218.439725\n"
     ]
    },
    {
     "name": "stderr",
     "output_type": "stream",
     "text": [
      "89/100 epochs: 100%|█████████████████████████████████████████████| 100/100 [00:00<00:00, 291.43it/s]\n"
     ]
    },
    {
     "name": "stdout",
     "output_type": "stream",
     "text": [
      "loss: 216.911026\n"
     ]
    },
    {
     "name": "stderr",
     "output_type": "stream",
     "text": [
      "90/100 epochs: 100%|█████████████████████████████████████████████| 100/100 [00:00<00:00, 293.02it/s]\n"
     ]
    },
    {
     "name": "stdout",
     "output_type": "stream",
     "text": [
      "loss: 214.886618\n"
     ]
    },
    {
     "name": "stderr",
     "output_type": "stream",
     "text": [
      "91/100 epochs: 100%|█████████████████████████████████████████████| 100/100 [00:00<00:00, 293.91it/s]\n"
     ]
    },
    {
     "name": "stdout",
     "output_type": "stream",
     "text": [
      "loss: 214.105494\n"
     ]
    },
    {
     "name": "stderr",
     "output_type": "stream",
     "text": [
      "92/100 epochs: 100%|█████████████████████████████████████████████| 100/100 [00:00<00:00, 293.89it/s]\n"
     ]
    },
    {
     "name": "stdout",
     "output_type": "stream",
     "text": [
      "loss: 214.525399\n"
     ]
    },
    {
     "name": "stderr",
     "output_type": "stream",
     "text": [
      "93/100 epochs: 100%|█████████████████████████████████████████████| 100/100 [00:00<00:00, 293.88it/s]\n"
     ]
    },
    {
     "name": "stdout",
     "output_type": "stream",
     "text": [
      "loss: 218.413192\n"
     ]
    },
    {
     "name": "stderr",
     "output_type": "stream",
     "text": [
      "94/100 epochs: 100%|█████████████████████████████████████████████| 100/100 [00:00<00:00, 293.97it/s]\n"
     ]
    },
    {
     "name": "stdout",
     "output_type": "stream",
     "text": [
      "loss: 213.924145\n"
     ]
    },
    {
     "name": "stderr",
     "output_type": "stream",
     "text": [
      "95/100 epochs: 100%|█████████████████████████████████████████████| 100/100 [00:00<00:00, 293.67it/s]\n"
     ]
    },
    {
     "name": "stdout",
     "output_type": "stream",
     "text": [
      "loss: 214.815985\n"
     ]
    },
    {
     "name": "stderr",
     "output_type": "stream",
     "text": [
      "96/100 epochs: 100%|█████████████████████████████████████████████| 100/100 [00:00<00:00, 293.32it/s]\n"
     ]
    },
    {
     "name": "stdout",
     "output_type": "stream",
     "text": [
      "loss: 217.649692\n"
     ]
    },
    {
     "name": "stderr",
     "output_type": "stream",
     "text": [
      "97/100 epochs: 100%|█████████████████████████████████████████████| 100/100 [00:00<00:00, 293.49it/s]\n"
     ]
    },
    {
     "name": "stdout",
     "output_type": "stream",
     "text": [
      "loss: 218.119261\n"
     ]
    },
    {
     "name": "stderr",
     "output_type": "stream",
     "text": [
      "98/100 epochs: 100%|█████████████████████████████████████████████| 100/100 [00:00<00:00, 293.34it/s]\n"
     ]
    },
    {
     "name": "stdout",
     "output_type": "stream",
     "text": [
      "loss: 215.028778\n"
     ]
    },
    {
     "name": "stderr",
     "output_type": "stream",
     "text": [
      "99/100 epochs: 100%|█████████████████████████████████████████████| 100/100 [00:00<00:00, 292.79it/s]\n"
     ]
    },
    {
     "name": "stdout",
     "output_type": "stream",
     "text": [
      "loss: 214.631223\n"
     ]
    },
    {
     "name": "stderr",
     "output_type": "stream",
     "text": [
      "100/100 epochs: 100%|████████████████████████████████████████████| 100/100 [00:00<00:00, 293.21it/s]"
     ]
    },
    {
     "name": "stdout",
     "output_type": "stream",
     "text": [
      "loss: 217.981727\n"
     ]
    },
    {
     "name": "stderr",
     "output_type": "stream",
     "text": [
      "\n"
     ]
    }
   ],
   "source": [
    "from torch.optim import Adam\n",
    "\n",
    "epochs = 100\n",
    "optimizer = Adam(denoise_model.parameters(), lr=0.001, betas=(0.9, 0.999))\n",
    "\n",
    "train(diffusion_model, denoise_model, train_dataloader, optimizer, epochs)"
   ]
  },
  {
   "cell_type": "markdown",
   "metadata": {},
   "source": [
    "## 3.3 采样并可视化"
   ]
  },
  {
   "cell_type": "code",
   "execution_count": 18,
   "metadata": {},
   "outputs": [
    {
     "data": {
      "image/png": "[encoded data removed]",
      "text/plain": [
       "<Figure size 600x600 with 1 Axes>"
      ]
     },
     "metadata": {},
     "output_type": "display_data"
    }
   ],
   "source": [
    "import matplotlib.pyplot as plt\n",
    "\n",
    "def split_squeeze(data):\n",
    "    x, y = np.split(data, 2, axis=1)\n",
    "    x, y = x.squeeze(1), y.squeeze(1)\n",
    "    return x, y\n",
    "\n",
    "def scatter_plot(x, y=None, xlim=None, ylim=None):\n",
    "    if hasattr(x, \"ndim\"):\n",
    "        x, y = split_squeeze(x) if x.ndim == 2 else (np.arange(len(x)), x)\n",
    "    plt.figure(figsize=(6, 6))\n",
    "    plt.scatter(x, y, s=0.5, alpha=0.7)\n",
    "\n",
    "    # set axes limits\n",
    "    if xlim is not None:\n",
    "        plt.xlim(*xlim)\n",
    "    if ylim is not None:\n",
    "        plt.ylim(*ylim)\n",
    "\n",
    "    plt.tight_layout()\n",
    "\n",
    "sample = diffusion_model.p_sample(denoise_model, (100000, 2))\n",
    "scatter_plot(sample.cpu())"
   ]
  }
 ],
 "metadata": {
  "kernelspec": {
   "display_name": "Python 3",
   "language": "python",
   "name": "python3"
  },
  "language_info": {
   "codemirror_mode": {
    "name": "ipython",
    "version": 3
   },
   "file_extension": ".py",
   "mimetype": "text/x-python",
   "name": "python",
   "nbconvert_exporter": "python",
   "pygments_lexer": "ipython3",
   "version": "3.8.10"
  }
 },
 "nbformat": 4,
 "nbformat_minor": 2
}
